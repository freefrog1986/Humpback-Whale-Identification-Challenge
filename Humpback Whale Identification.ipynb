{
 "cells": [
  {
   "cell_type": "markdown",
   "metadata": {},
   "source": [
    "# Humpback Whale Identification Challenge"
   ]
  },
  {
   "cell_type": "markdown",
   "metadata": {},
   "source": [
    "## Capstone Project"
   ]
  },
  {
   "cell_type": "markdown",
   "metadata": {},
   "source": [
    "Bo Liu\n",
    "\n",
    "July 24st, 2018"
   ]
  },
  {
   "cell_type": "markdown",
   "metadata": {},
   "source": [
    "## I. Definition"
   ]
  },
  {
   "cell_type": "markdown",
   "metadata": {},
   "source": [
    "### Project Overview"
   ]
  },
  {
   "cell_type": "markdown",
   "metadata": {},
   "source": [
    "After centuries of intense whaling, recovering whale populations still have a hard time adapting\n",
    "to warming oceans and struggle to compete every day with the industrial fishing industry for\n",
    "food.\n",
    "\n",
    "To aid whale conservation efforts, scientists use photo surveillance systems to monitor ocean\n",
    "activity. They use the shape of whales’ tails and unique markings found in footage to identify what\n",
    "species of whale they’re analyzing and meticulously log whale pod dynamics and movements.\n",
    "For the past 40 years, most of this work has been done manually by individual scientists, leaving\n",
    "a huge trove of data untapped and underutilized.\n",
    "\n",
    "The challeng is to build an algorithm to identifying whale species in images. I will analyze\n",
    "Happy Whale’s database of over 25,000 images, gathered from research institutions and public\n",
    "contributors. And I am excited to help open rich fields of understanding for marine mammal\n",
    "population dynamics around the globe.\n",
    "\n",
    "Happy Whale is the organization who provid this data and problem. It is a platform that uses\n",
    "image process algorithms to let anyone to submit their whale photo and have it automatically\n",
    "identified.\n",
    "\n",
    "This Chellange is originally form kaggle.com, more info can be find [here.](https://www.kaggle.com/c/whale-categorization-playground)"
   ]
  },
  {
   "cell_type": "markdown",
   "metadata": {},
   "source": [
    "### Problem Statement"
   ]
  },
  {
   "cell_type": "markdown",
   "metadata": {},
   "source": [
    "We have training data contains thousands of images of humpback whale flukes. Individual whales\n",
    "have been identified by researchers and given an Id. The problem we are going to solve is to\n",
    "predict the whale Id of images in the test set. What makes this such a challenge is that there are\n",
    "only a few examples for each of 3,000+ whale Ids. One relevant potential solution is training a\n",
    "model of CNN to identify thoes whale flukes.\n",
    "\n",
    "Additionally, the problem can be quantified as follow, for an arbitrary image of whale flukes $x$\n",
    "(where $x$ is the form of point series), and the corresponding whale Id $y$, find out a model $f(x)$ that\n",
    "can map $x$ to a candidate Id $\\hat y$.\n",
    "\n",
    "The problem can be measured according to the precision at cutoff $k$.\n",
    "\n",
    "The problem can be reproduced by checking the [challenging website]() and public datasets of whale flukes."
   ]
  },
  {
   "cell_type": "markdown",
   "metadata": {},
   "source": [
    "### Metrics"
   ]
  },
  {
   "cell_type": "markdown",
   "metadata": {},
   "source": [
    "We use accuracy as the metric to evaluate the performance of our model.\n",
    "\n",
    "$$accuracy(y,\\hat y) = \\frac{1}{n_{samples}} \\sum^{n_{samples}-1}_{i=0} 1(\\hat y = y)$$\n",
    "\n",
    "wher $\\hat y$ is the predicted label, $n_{samples}$ is the number of samples, $1(x)$ is the indicator function.\n",
    "\n",
    "And our final solution can be measured by the Mean Average Precision @ 5 (MAP@5) which is provided on the official website.\n",
    "$$MAP@5 = \\frac{1}{U} \\sum^U_{u=1} \\sum ^{min(n,5)}_{k=1} P(K)$$\n",
    "where $U$ is the number of images, $P(k)$ is the precision at cutoff $k$, and $n$ is the number predictions\n",
    "per image."
   ]
  },
  {
   "cell_type": "markdown",
   "metadata": {},
   "source": [
    "## II. Analysis"
   ]
  },
  {
   "cell_type": "markdown",
   "metadata": {},
   "source": [
    "### Data Exploration"
   ]
  },
  {
   "cell_type": "markdown",
   "metadata": {},
   "source": [
    "This training data contains thousands of images of humpback whale flukes. Individual whales have been identified by researchers and given an Id. \n",
    "\n",
    "There are two floders contaning training images and testing images separately, and one csv file\n",
    "to map the training data to the right Id. Also a template of submission file is provided. \n",
    "\n",
    "- train - a folder containing 9850 training images of humpback whale flukes. \n",
    "- test - a folder containing 15610 test images to predict the whale Id. \n",
    "- train.csv - maps the training Image to the appropriate whale Id. \n",
    "- sample_submission.csv - a sample submission file in the correct format\n",
    "\n",
    "Whales that are not predicted to have a label identified in the training data should be labeled as new_whale.\n",
    "Each of the images including a humpback whale fluke, So appropriately identifying those\n",
    "image are related to solving the problem we described before.\n",
    "\n",
    "The dataset can be obtained from kaggle website , or you can click [here](https://www.kaggle.com/c/whale-categorization-playground/data).\n",
    "\n",
    "The training dataset will be used to train our model, while the test dataset will be used to test\n",
    "our model and create a submission file. Our final results can be evaluated on MAP@5 by uploading our submission to the [official challenge website](https://www.kaggle.com/c/whale-categorization-playground/leaderboard).\n",
    "\n",
    "For the reason that the total size of datasets is over 700MB, so I will not upload the datasets with my submition of this final project.\n",
    "\n",
    "Training Images have various sizes and different color types, so I convert all images to gray and resize to 64x64. Figure 1 shows some of the traning images."
   ]
  },
  {
   "attachments": {},
   "cell_type": "markdown",
   "metadata": {},
   "source": [
    "![image.png](https://github.com/freefrog1986/Humpback-Whale-Identification-Challenge/blob/master/sample_images.png?raw=true)\n",
    "\n",
    "Figure 1 samples of training images"
   ]
  },
  {
   "cell_type": "markdown",
   "metadata": {},
   "source": [
    "### Exploratory Visualization"
   ]
  },
  {
   "cell_type": "markdown",
   "metadata": {},
   "source": [
    "The competition states that it's hard because: \"there are only a few examples for each of 3,000+ whale ids\", there are actually 4251 categories in the training set.\n",
    "\n",
    "There appear to be too many categories to graph count by category, so let's instead graph the number of categories by the number of images in the category which is shown on figure 2.\n"
   ]
  },
  {
   "cell_type": "markdown",
   "metadata": {},
   "source": [
    "![](https://github.com/freefrog1986/Humpback-Whale-Identification-Challenge/blob/master/distribution_samples.png?raw=true)\n",
    "\n",
    "Figure 2 the number of categories by the number of images in the category"
   ]
  },
  {
   "cell_type": "markdown",
   "metadata": {},
   "source": [
    "### Algorithms and Techniques"
   ]
  },
  {
   "cell_type": "code",
   "execution_count": null,
   "metadata": {},
   "outputs": [],
   "source": []
  },
  {
   "cell_type": "markdown",
   "metadata": {},
   "source": [
    "### Benchmark"
   ]
  },
  {
   "cell_type": "markdown",
   "metadata": {},
   "source": [
    "## III. Methodology"
   ]
  },
  {
   "cell_type": "markdown",
   "metadata": {},
   "source": [
    "### Data Preprocessing"
   ]
  },
  {
   "cell_type": "markdown",
   "metadata": {},
   "source": [
    "### Implementation"
   ]
  },
  {
   "cell_type": "markdown",
   "metadata": {},
   "source": [
    "### Refinement"
   ]
  },
  {
   "cell_type": "markdown",
   "metadata": {},
   "source": [
    "## IV. Results"
   ]
  },
  {
   "cell_type": "markdown",
   "metadata": {},
   "source": [
    "### Model Evaluation and Validation"
   ]
  },
  {
   "cell_type": "markdown",
   "metadata": {},
   "source": [
    "### Justification"
   ]
  },
  {
   "cell_type": "markdown",
   "metadata": {},
   "source": [
    "## V. Conclusion"
   ]
  },
  {
   "cell_type": "markdown",
   "metadata": {},
   "source": [
    "### Free-Form Visualization"
   ]
  },
  {
   "cell_type": "markdown",
   "metadata": {},
   "source": [
    "### Reflection"
   ]
  },
  {
   "cell_type": "markdown",
   "metadata": {},
   "source": [
    "### Improvement"
   ]
  }
 ],
 "metadata": {
  "kernelspec": {
   "display_name": "Python [conda env:tensorflow]",
   "language": "python",
   "name": "conda-env-tensorflow-py"
  },
  "language_info": {
   "codemirror_mode": {
    "name": "ipython",
    "version": 3
   },
   "file_extension": ".py",
   "mimetype": "text/x-python",
   "name": "python",
   "nbconvert_exporter": "python",
   "pygments_lexer": "ipython3",
   "version": "3.5.5"
  }
 },
 "nbformat": 4,
 "nbformat_minor": 2
}
